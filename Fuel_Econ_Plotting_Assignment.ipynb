{
  "cells": [
    {
      "cell_type": "markdown",
      "metadata": {
        "id": "view-in-github",
        "colab_type": "text"
      },
      "source": [
        "<a href=\"https://colab.research.google.com/github/anesukafesu/fuel-econ-plotting/blob/main/Fuel_Econ_Plotting_Assignment.ipynb\" target=\"_parent\"><img src=\"https://colab.research.google.com/assets/colab-badge.svg\" alt=\"Open In Colab\"/></a>"
      ]
    },
    {
      "cell_type": "markdown",
      "source": [
        "# **Project Plotting - Matplotlib Seaborn, Histograms and Boxplots**\n",
        "\n",
        "The most recent ASC23 considered four major systems-based tracks with a view to providing region-focused contributions to inform the global stocktake among them Cities, urban and rural settlements, infrastructure, and transport.\n",
        "\n",
        "In this assignment, I will be performing analysis more specifically on transport (vehicles and fuel efficiency)."
      ],
      "metadata": {
        "id": "0dZLX9lCnnBy"
      }
    },
    {
      "cell_type": "markdown",
      "source": [
        "# Prerequisite imports\n",
        "Importing necessary packages to be used in the notebook"
      ],
      "metadata": {
        "id": "Am6udzuxpy7Y"
      }
    },
    {
      "cell_type": "code",
      "execution_count": null,
      "metadata": {
        "id": "1wYEzubCmTOC"
      },
      "outputs": [],
      "source": [
        "import numpy as np\n",
        "import pandas as pd\n",
        "import matplotlib.pyplot as plt\n",
        "import seaborn as sns"
      ]
    },
    {
      "cell_type": "markdown",
      "metadata": {
        "id": "HycfVDQqmTOC"
      },
      "source": [
        "# Loading Data\n",
        "1. Load data\n",
        "2. Display at least 10 rows"
      ]
    },
    {
      "cell_type": "code",
      "execution_count": null,
      "metadata": {
        "id": "d-EAkynamTOD",
        "colab": {
          "base_uri": "https://localhost:8080/",
          "height": 730
        },
        "outputId": "4eb58442-3602-4e38-dedc-3a36a685d9cd"
      },
      "outputs": [
        {
          "output_type": "execute_result",
          "data": {
            "text/plain": [
              "      id        make           model  year           VClass  \\\n",
              "0  32204      Nissan            GT-R  2013  Subcompact Cars   \n",
              "1  32205  Volkswagen              CC  2013     Compact Cars   \n",
              "2  32206  Volkswagen              CC  2013     Compact Cars   \n",
              "3  32207  Volkswagen      CC 4motion  2013     Compact Cars   \n",
              "4  32208   Chevrolet  Malibu eAssist  2013     Midsize Cars   \n",
              "5  32209       Lexus          GS 350  2013     Midsize Cars   \n",
              "6  32210       Lexus      GS 350 AWD  2013     Midsize Cars   \n",
              "7  32214     Hyundai   Genesis Coupe  2013  Subcompact Cars   \n",
              "8  32215     Hyundai   Genesis Coupe  2013  Subcompact Cars   \n",
              "9  32216     Hyundai   Genesis Coupe  2013  Subcompact Cars   \n",
              "\n",
              "               drive              trans          fuelType  cylinders  displ  \\\n",
              "0    All-Wheel Drive    Automatic (AM6)  Premium Gasoline          6    3.8   \n",
              "1  Front-Wheel Drive  Automatic (AM-S6)  Premium Gasoline          4    2.0   \n",
              "2  Front-Wheel Drive     Automatic (S6)  Premium Gasoline          6    3.6   \n",
              "3    All-Wheel Drive     Automatic (S6)  Premium Gasoline          6    3.6   \n",
              "4  Front-Wheel Drive     Automatic (S6)  Regular Gasoline          4    2.4   \n",
              "5   Rear-Wheel Drive     Automatic (S6)  Premium Gasoline          6    3.5   \n",
              "6    All-Wheel Drive     Automatic (S6)  Premium Gasoline          6    3.5   \n",
              "7   Rear-Wheel Drive    Automatic 8-spd  Premium Gasoline          4    2.0   \n",
              "8   Rear-Wheel Drive       Manual 6-spd  Premium Gasoline          4    2.0   \n",
              "9   Rear-Wheel Drive    Automatic 8-spd  Premium Gasoline          6    3.8   \n",
              "\n",
              "   pv2  pv4     city    UCity  highway  UHighway     comb  co2  feScore  \\\n",
              "0   79    0  16.4596  20.2988  22.5568   30.1798  18.7389  471        4   \n",
              "1   94    0  21.8706  26.9770  31.0367   42.4936  25.2227  349        6   \n",
              "2   94    0  17.4935  21.2000  26.5716   35.1000  20.6716  429        5   \n",
              "3   94    0  16.9415  20.5000  25.2190   33.5000  19.8774  446        5   \n",
              "4    0   95  24.7726  31.9796  35.5340   51.8816  28.6813  310        8   \n",
              "5    0   99  19.4325  24.1499  28.2234   38.5000  22.6002  393        6   \n",
              "6    0   99  18.5752  23.5261  26.3573   36.2109  21.4213  412        5   \n",
              "7   89    0  17.4460  21.7946  26.6295   37.6731  20.6507  432        5   \n",
              "8   89    0  20.6741  26.2000  29.2741   41.8000  23.8235  375        6   \n",
              "9   89    0  16.4675  20.4839  24.5605   34.4972  19.3344  461        4   \n",
              "\n",
              "   ghgScore  \n",
              "0         4  \n",
              "1         6  \n",
              "2         5  \n",
              "3         5  \n",
              "4         8  \n",
              "5         6  \n",
              "6         5  \n",
              "7         5  \n",
              "8         6  \n",
              "9         4  "
            ],
            "text/html": [
              "\n",
              "  <div id=\"df-4abc252b-fcc2-43b5-b665-c2096e4bb4ad\" class=\"colab-df-container\">\n",
              "    <div>\n",
              "<style scoped>\n",
              "    .dataframe tbody tr th:only-of-type {\n",
              "        vertical-align: middle;\n",
              "    }\n",
              "\n",
              "    .dataframe tbody tr th {\n",
              "        vertical-align: top;\n",
              "    }\n",
              "\n",
              "    .dataframe thead th {\n",
              "        text-align: right;\n",
              "    }\n",
              "</style>\n",
              "<table border=\"1\" class=\"dataframe\">\n",
              "  <thead>\n",
              "    <tr style=\"text-align: right;\">\n",
              "      <th></th>\n",
              "      <th>id</th>\n",
              "      <th>make</th>\n",
              "      <th>model</th>\n",
              "      <th>year</th>\n",
              "      <th>VClass</th>\n",
              "      <th>drive</th>\n",
              "      <th>trans</th>\n",
              "      <th>fuelType</th>\n",
              "      <th>cylinders</th>\n",
              "      <th>displ</th>\n",
              "      <th>pv2</th>\n",
              "      <th>pv4</th>\n",
              "      <th>city</th>\n",
              "      <th>UCity</th>\n",
              "      <th>highway</th>\n",
              "      <th>UHighway</th>\n",
              "      <th>comb</th>\n",
              "      <th>co2</th>\n",
              "      <th>feScore</th>\n",
              "      <th>ghgScore</th>\n",
              "    </tr>\n",
              "  </thead>\n",
              "  <tbody>\n",
              "    <tr>\n",
              "      <th>0</th>\n",
              "      <td>32204</td>\n",
              "      <td>Nissan</td>\n",
              "      <td>GT-R</td>\n",
              "      <td>2013</td>\n",
              "      <td>Subcompact Cars</td>\n",
              "      <td>All-Wheel Drive</td>\n",
              "      <td>Automatic (AM6)</td>\n",
              "      <td>Premium Gasoline</td>\n",
              "      <td>6</td>\n",
              "      <td>3.8</td>\n",
              "      <td>79</td>\n",
              "      <td>0</td>\n",
              "      <td>16.4596</td>\n",
              "      <td>20.2988</td>\n",
              "      <td>22.5568</td>\n",
              "      <td>30.1798</td>\n",
              "      <td>18.7389</td>\n",
              "      <td>471</td>\n",
              "      <td>4</td>\n",
              "      <td>4</td>\n",
              "    </tr>\n",
              "    <tr>\n",
              "      <th>1</th>\n",
              "      <td>32205</td>\n",
              "      <td>Volkswagen</td>\n",
              "      <td>CC</td>\n",
              "      <td>2013</td>\n",
              "      <td>Compact Cars</td>\n",
              "      <td>Front-Wheel Drive</td>\n",
              "      <td>Automatic (AM-S6)</td>\n",
              "      <td>Premium Gasoline</td>\n",
              "      <td>4</td>\n",
              "      <td>2.0</td>\n",
              "      <td>94</td>\n",
              "      <td>0</td>\n",
              "      <td>21.8706</td>\n",
              "      <td>26.9770</td>\n",
              "      <td>31.0367</td>\n",
              "      <td>42.4936</td>\n",
              "      <td>25.2227</td>\n",
              "      <td>349</td>\n",
              "      <td>6</td>\n",
              "      <td>6</td>\n",
              "    </tr>\n",
              "    <tr>\n",
              "      <th>2</th>\n",
              "      <td>32206</td>\n",
              "      <td>Volkswagen</td>\n",
              "      <td>CC</td>\n",
              "      <td>2013</td>\n",
              "      <td>Compact Cars</td>\n",
              "      <td>Front-Wheel Drive</td>\n",
              "      <td>Automatic (S6)</td>\n",
              "      <td>Premium Gasoline</td>\n",
              "      <td>6</td>\n",
              "      <td>3.6</td>\n",
              "      <td>94</td>\n",
              "      <td>0</td>\n",
              "      <td>17.4935</td>\n",
              "      <td>21.2000</td>\n",
              "      <td>26.5716</td>\n",
              "      <td>35.1000</td>\n",
              "      <td>20.6716</td>\n",
              "      <td>429</td>\n",
              "      <td>5</td>\n",
              "      <td>5</td>\n",
              "    </tr>\n",
              "    <tr>\n",
              "      <th>3</th>\n",
              "      <td>32207</td>\n",
              "      <td>Volkswagen</td>\n",
              "      <td>CC 4motion</td>\n",
              "      <td>2013</td>\n",
              "      <td>Compact Cars</td>\n",
              "      <td>All-Wheel Drive</td>\n",
              "      <td>Automatic (S6)</td>\n",
              "      <td>Premium Gasoline</td>\n",
              "      <td>6</td>\n",
              "      <td>3.6</td>\n",
              "      <td>94</td>\n",
              "      <td>0</td>\n",
              "      <td>16.9415</td>\n",
              "      <td>20.5000</td>\n",
              "      <td>25.2190</td>\n",
              "      <td>33.5000</td>\n",
              "      <td>19.8774</td>\n",
              "      <td>446</td>\n",
              "      <td>5</td>\n",
              "      <td>5</td>\n",
              "    </tr>\n",
              "    <tr>\n",
              "      <th>4</th>\n",
              "      <td>32208</td>\n",
              "      <td>Chevrolet</td>\n",
              "      <td>Malibu eAssist</td>\n",
              "      <td>2013</td>\n",
              "      <td>Midsize Cars</td>\n",
              "      <td>Front-Wheel Drive</td>\n",
              "      <td>Automatic (S6)</td>\n",
              "      <td>Regular Gasoline</td>\n",
              "      <td>4</td>\n",
              "      <td>2.4</td>\n",
              "      <td>0</td>\n",
              "      <td>95</td>\n",
              "      <td>24.7726</td>\n",
              "      <td>31.9796</td>\n",
              "      <td>35.5340</td>\n",
              "      <td>51.8816</td>\n",
              "      <td>28.6813</td>\n",
              "      <td>310</td>\n",
              "      <td>8</td>\n",
              "      <td>8</td>\n",
              "    </tr>\n",
              "    <tr>\n",
              "      <th>5</th>\n",
              "      <td>32209</td>\n",
              "      <td>Lexus</td>\n",
              "      <td>GS 350</td>\n",
              "      <td>2013</td>\n",
              "      <td>Midsize Cars</td>\n",
              "      <td>Rear-Wheel Drive</td>\n",
              "      <td>Automatic (S6)</td>\n",
              "      <td>Premium Gasoline</td>\n",
              "      <td>6</td>\n",
              "      <td>3.5</td>\n",
              "      <td>0</td>\n",
              "      <td>99</td>\n",
              "      <td>19.4325</td>\n",
              "      <td>24.1499</td>\n",
              "      <td>28.2234</td>\n",
              "      <td>38.5000</td>\n",
              "      <td>22.6002</td>\n",
              "      <td>393</td>\n",
              "      <td>6</td>\n",
              "      <td>6</td>\n",
              "    </tr>\n",
              "    <tr>\n",
              "      <th>6</th>\n",
              "      <td>32210</td>\n",
              "      <td>Lexus</td>\n",
              "      <td>GS 350 AWD</td>\n",
              "      <td>2013</td>\n",
              "      <td>Midsize Cars</td>\n",
              "      <td>All-Wheel Drive</td>\n",
              "      <td>Automatic (S6)</td>\n",
              "      <td>Premium Gasoline</td>\n",
              "      <td>6</td>\n",
              "      <td>3.5</td>\n",
              "      <td>0</td>\n",
              "      <td>99</td>\n",
              "      <td>18.5752</td>\n",
              "      <td>23.5261</td>\n",
              "      <td>26.3573</td>\n",
              "      <td>36.2109</td>\n",
              "      <td>21.4213</td>\n",
              "      <td>412</td>\n",
              "      <td>5</td>\n",
              "      <td>5</td>\n",
              "    </tr>\n",
              "    <tr>\n",
              "      <th>7</th>\n",
              "      <td>32214</td>\n",
              "      <td>Hyundai</td>\n",
              "      <td>Genesis Coupe</td>\n",
              "      <td>2013</td>\n",
              "      <td>Subcompact Cars</td>\n",
              "      <td>Rear-Wheel Drive</td>\n",
              "      <td>Automatic 8-spd</td>\n",
              "      <td>Premium Gasoline</td>\n",
              "      <td>4</td>\n",
              "      <td>2.0</td>\n",
              "      <td>89</td>\n",
              "      <td>0</td>\n",
              "      <td>17.4460</td>\n",
              "      <td>21.7946</td>\n",
              "      <td>26.6295</td>\n",
              "      <td>37.6731</td>\n",
              "      <td>20.6507</td>\n",
              "      <td>432</td>\n",
              "      <td>5</td>\n",
              "      <td>5</td>\n",
              "    </tr>\n",
              "    <tr>\n",
              "      <th>8</th>\n",
              "      <td>32215</td>\n",
              "      <td>Hyundai</td>\n",
              "      <td>Genesis Coupe</td>\n",
              "      <td>2013</td>\n",
              "      <td>Subcompact Cars</td>\n",
              "      <td>Rear-Wheel Drive</td>\n",
              "      <td>Manual 6-spd</td>\n",
              "      <td>Premium Gasoline</td>\n",
              "      <td>4</td>\n",
              "      <td>2.0</td>\n",
              "      <td>89</td>\n",
              "      <td>0</td>\n",
              "      <td>20.6741</td>\n",
              "      <td>26.2000</td>\n",
              "      <td>29.2741</td>\n",
              "      <td>41.8000</td>\n",
              "      <td>23.8235</td>\n",
              "      <td>375</td>\n",
              "      <td>6</td>\n",
              "      <td>6</td>\n",
              "    </tr>\n",
              "    <tr>\n",
              "      <th>9</th>\n",
              "      <td>32216</td>\n",
              "      <td>Hyundai</td>\n",
              "      <td>Genesis Coupe</td>\n",
              "      <td>2013</td>\n",
              "      <td>Subcompact Cars</td>\n",
              "      <td>Rear-Wheel Drive</td>\n",
              "      <td>Automatic 8-spd</td>\n",
              "      <td>Premium Gasoline</td>\n",
              "      <td>6</td>\n",
              "      <td>3.8</td>\n",
              "      <td>89</td>\n",
              "      <td>0</td>\n",
              "      <td>16.4675</td>\n",
              "      <td>20.4839</td>\n",
              "      <td>24.5605</td>\n",
              "      <td>34.4972</td>\n",
              "      <td>19.3344</td>\n",
              "      <td>461</td>\n",
              "      <td>4</td>\n",
              "      <td>4</td>\n",
              "    </tr>\n",
              "  </tbody>\n",
              "</table>\n",
              "</div>\n",
              "    <div class=\"colab-df-buttons\">\n",
              "\n",
              "  <div class=\"colab-df-container\">\n",
              "    <button class=\"colab-df-convert\" onclick=\"convertToInteractive('df-4abc252b-fcc2-43b5-b665-c2096e4bb4ad')\"\n",
              "            title=\"Convert this dataframe to an interactive table.\"\n",
              "            style=\"display:none;\">\n",
              "\n",
              "  <svg xmlns=\"http://www.w3.org/2000/svg\" height=\"24px\" viewBox=\"0 -960 960 960\">\n",
              "    <path d=\"M120-120v-720h720v720H120Zm60-500h600v-160H180v160Zm220 220h160v-160H400v160Zm0 220h160v-160H400v160ZM180-400h160v-160H180v160Zm440 0h160v-160H620v160ZM180-180h160v-160H180v160Zm440 0h160v-160H620v160Z\"/>\n",
              "  </svg>\n",
              "    </button>\n",
              "\n",
              "  <style>\n",
              "    .colab-df-container {\n",
              "      display:flex;\n",
              "      gap: 12px;\n",
              "    }\n",
              "\n",
              "    .colab-df-convert {\n",
              "      background-color: #E8F0FE;\n",
              "      border: none;\n",
              "      border-radius: 50%;\n",
              "      cursor: pointer;\n",
              "      display: none;\n",
              "      fill: #1967D2;\n",
              "      height: 32px;\n",
              "      padding: 0 0 0 0;\n",
              "      width: 32px;\n",
              "    }\n",
              "\n",
              "    .colab-df-convert:hover {\n",
              "      background-color: #E2EBFA;\n",
              "      box-shadow: 0px 1px 2px rgba(60, 64, 67, 0.3), 0px 1px 3px 1px rgba(60, 64, 67, 0.15);\n",
              "      fill: #174EA6;\n",
              "    }\n",
              "\n",
              "    .colab-df-buttons div {\n",
              "      margin-bottom: 4px;\n",
              "    }\n",
              "\n",
              "    [theme=dark] .colab-df-convert {\n",
              "      background-color: #3B4455;\n",
              "      fill: #D2E3FC;\n",
              "    }\n",
              "\n",
              "    [theme=dark] .colab-df-convert:hover {\n",
              "      background-color: #434B5C;\n",
              "      box-shadow: 0px 1px 3px 1px rgba(0, 0, 0, 0.15);\n",
              "      filter: drop-shadow(0px 1px 2px rgba(0, 0, 0, 0.3));\n",
              "      fill: #FFFFFF;\n",
              "    }\n",
              "  </style>\n",
              "\n",
              "    <script>\n",
              "      const buttonEl =\n",
              "        document.querySelector('#df-4abc252b-fcc2-43b5-b665-c2096e4bb4ad button.colab-df-convert');\n",
              "      buttonEl.style.display =\n",
              "        google.colab.kernel.accessAllowed ? 'block' : 'none';\n",
              "\n",
              "      async function convertToInteractive(key) {\n",
              "        const element = document.querySelector('#df-4abc252b-fcc2-43b5-b665-c2096e4bb4ad');\n",
              "        const dataTable =\n",
              "          await google.colab.kernel.invokeFunction('convertToInteractive',\n",
              "                                                    [key], {});\n",
              "        if (!dataTable) return;\n",
              "\n",
              "        const docLinkHtml = 'Like what you see? Visit the ' +\n",
              "          '<a target=\"_blank\" href=https://colab.research.google.com/notebooks/data_table.ipynb>data table notebook</a>'\n",
              "          + ' to learn more about interactive tables.';\n",
              "        element.innerHTML = '';\n",
              "        dataTable['output_type'] = 'display_data';\n",
              "        await google.colab.output.renderOutput(dataTable, element);\n",
              "        const docLink = document.createElement('div');\n",
              "        docLink.innerHTML = docLinkHtml;\n",
              "        element.appendChild(docLink);\n",
              "      }\n",
              "    </script>\n",
              "  </div>\n",
              "\n",
              "\n",
              "<div id=\"df-70cdd05c-f109-455d-9bb1-ea614ebf5138\">\n",
              "  <button class=\"colab-df-quickchart\" onclick=\"quickchart('df-70cdd05c-f109-455d-9bb1-ea614ebf5138')\"\n",
              "            title=\"Suggest charts\"\n",
              "            style=\"display:none;\">\n",
              "\n",
              "<svg xmlns=\"http://www.w3.org/2000/svg\" height=\"24px\"viewBox=\"0 0 24 24\"\n",
              "     width=\"24px\">\n",
              "    <g>\n",
              "        <path d=\"M19 3H5c-1.1 0-2 .9-2 2v14c0 1.1.9 2 2 2h14c1.1 0 2-.9 2-2V5c0-1.1-.9-2-2-2zM9 17H7v-7h2v7zm4 0h-2V7h2v10zm4 0h-2v-4h2v4z\"/>\n",
              "    </g>\n",
              "</svg>\n",
              "  </button>\n",
              "\n",
              "<style>\n",
              "  .colab-df-quickchart {\n",
              "      --bg-color: #E8F0FE;\n",
              "      --fill-color: #1967D2;\n",
              "      --hover-bg-color: #E2EBFA;\n",
              "      --hover-fill-color: #174EA6;\n",
              "      --disabled-fill-color: #AAA;\n",
              "      --disabled-bg-color: #DDD;\n",
              "  }\n",
              "\n",
              "  [theme=dark] .colab-df-quickchart {\n",
              "      --bg-color: #3B4455;\n",
              "      --fill-color: #D2E3FC;\n",
              "      --hover-bg-color: #434B5C;\n",
              "      --hover-fill-color: #FFFFFF;\n",
              "      --disabled-bg-color: #3B4455;\n",
              "      --disabled-fill-color: #666;\n",
              "  }\n",
              "\n",
              "  .colab-df-quickchart {\n",
              "    background-color: var(--bg-color);\n",
              "    border: none;\n",
              "    border-radius: 50%;\n",
              "    cursor: pointer;\n",
              "    display: none;\n",
              "    fill: var(--fill-color);\n",
              "    height: 32px;\n",
              "    padding: 0;\n",
              "    width: 32px;\n",
              "  }\n",
              "\n",
              "  .colab-df-quickchart:hover {\n",
              "    background-color: var(--hover-bg-color);\n",
              "    box-shadow: 0 1px 2px rgba(60, 64, 67, 0.3), 0 1px 3px 1px rgba(60, 64, 67, 0.15);\n",
              "    fill: var(--button-hover-fill-color);\n",
              "  }\n",
              "\n",
              "  .colab-df-quickchart-complete:disabled,\n",
              "  .colab-df-quickchart-complete:disabled:hover {\n",
              "    background-color: var(--disabled-bg-color);\n",
              "    fill: var(--disabled-fill-color);\n",
              "    box-shadow: none;\n",
              "  }\n",
              "\n",
              "  .colab-df-spinner {\n",
              "    border: 2px solid var(--fill-color);\n",
              "    border-color: transparent;\n",
              "    border-bottom-color: var(--fill-color);\n",
              "    animation:\n",
              "      spin 1s steps(1) infinite;\n",
              "  }\n",
              "\n",
              "  @keyframes spin {\n",
              "    0% {\n",
              "      border-color: transparent;\n",
              "      border-bottom-color: var(--fill-color);\n",
              "      border-left-color: var(--fill-color);\n",
              "    }\n",
              "    20% {\n",
              "      border-color: transparent;\n",
              "      border-left-color: var(--fill-color);\n",
              "      border-top-color: var(--fill-color);\n",
              "    }\n",
              "    30% {\n",
              "      border-color: transparent;\n",
              "      border-left-color: var(--fill-color);\n",
              "      border-top-color: var(--fill-color);\n",
              "      border-right-color: var(--fill-color);\n",
              "    }\n",
              "    40% {\n",
              "      border-color: transparent;\n",
              "      border-right-color: var(--fill-color);\n",
              "      border-top-color: var(--fill-color);\n",
              "    }\n",
              "    60% {\n",
              "      border-color: transparent;\n",
              "      border-right-color: var(--fill-color);\n",
              "    }\n",
              "    80% {\n",
              "      border-color: transparent;\n",
              "      border-right-color: var(--fill-color);\n",
              "      border-bottom-color: var(--fill-color);\n",
              "    }\n",
              "    90% {\n",
              "      border-color: transparent;\n",
              "      border-bottom-color: var(--fill-color);\n",
              "    }\n",
              "  }\n",
              "</style>\n",
              "\n",
              "  <script>\n",
              "    async function quickchart(key) {\n",
              "      const quickchartButtonEl =\n",
              "        document.querySelector('#' + key + ' button');\n",
              "      quickchartButtonEl.disabled = true;  // To prevent multiple clicks.\n",
              "      quickchartButtonEl.classList.add('colab-df-spinner');\n",
              "      try {\n",
              "        const charts = await google.colab.kernel.invokeFunction(\n",
              "            'suggestCharts', [key], {});\n",
              "      } catch (error) {\n",
              "        console.error('Error during call to suggestCharts:', error);\n",
              "      }\n",
              "      quickchartButtonEl.classList.remove('colab-df-spinner');\n",
              "      quickchartButtonEl.classList.add('colab-df-quickchart-complete');\n",
              "    }\n",
              "    (() => {\n",
              "      let quickchartButtonEl =\n",
              "        document.querySelector('#df-70cdd05c-f109-455d-9bb1-ea614ebf5138 button');\n",
              "      quickchartButtonEl.style.display =\n",
              "        google.colab.kernel.accessAllowed ? 'block' : 'none';\n",
              "    })();\n",
              "  </script>\n",
              "</div>\n",
              "    </div>\n",
              "  </div>\n"
            ],
            "application/vnd.google.colaboratory.intrinsic+json": {
              "type": "dataframe",
              "variable_name": "fuel_econ_data",
              "summary": "{\n  \"name\": \"fuel_econ_data\",\n  \"rows\": 3929,\n  \"fields\": [\n    {\n      \"column\": \"id\",\n      \"properties\": {\n        \"dtype\": \"number\",\n        \"std\": 2189,\n        \"min\": 32204,\n        \"max\": 39901,\n        \"num_unique_values\": 3929,\n        \"samples\": [\n          35713,\n          35084,\n          36194\n        ],\n        \"semantic_type\": \"\",\n        \"description\": \"\"\n      }\n    },\n    {\n      \"column\": \"make\",\n      \"properties\": {\n        \"dtype\": \"category\",\n        \"num_unique_values\": 39,\n        \"samples\": [\n          \"Honda\",\n          \"Genesis\",\n          \"Hyundai\"\n        ],\n        \"semantic_type\": \"\",\n        \"description\": \"\"\n      }\n    },\n    {\n      \"column\": \"model\",\n      \"properties\": {\n        \"dtype\": \"category\",\n        \"num_unique_values\": 769,\n        \"samples\": [\n          \"Maybach S550 4matic\",\n          \"Prius\",\n          \"230i Convertible\"\n        ],\n        \"semantic_type\": \"\",\n        \"description\": \"\"\n      }\n    },\n    {\n      \"column\": \"year\",\n      \"properties\": {\n        \"dtype\": \"number\",\n        \"std\": 1,\n        \"min\": 2013,\n        \"max\": 2018,\n        \"num_unique_values\": 6,\n        \"samples\": [\n          2013,\n          2014,\n          2018\n        ],\n        \"semantic_type\": \"\",\n        \"description\": \"\"\n      }\n    },\n    {\n      \"column\": \"VClass\",\n      \"properties\": {\n        \"dtype\": \"category\",\n        \"num_unique_values\": 5,\n        \"samples\": [\n          \"Compact Cars\",\n          \"Minicompact Cars\",\n          \"Midsize Cars\"\n        ],\n        \"semantic_type\": \"\",\n        \"description\": \"\"\n      }\n    },\n    {\n      \"column\": \"drive\",\n      \"properties\": {\n        \"dtype\": \"category\",\n        \"num_unique_values\": 6,\n        \"samples\": [\n          \"All-Wheel Drive\",\n          \"Front-Wheel Drive\",\n          \"Automatic (A1)\"\n        ],\n        \"semantic_type\": \"\",\n        \"description\": \"\"\n      }\n    },\n    {\n      \"column\": \"trans\",\n      \"properties\": {\n        \"dtype\": \"category\",\n        \"num_unique_values\": 27,\n        \"samples\": [\n          \"Automatic (AV-S6)\",\n          \"Automatic (variable gear ratios)\",\n          \"Automatic (S8)\"\n        ],\n        \"semantic_type\": \"\",\n        \"description\": \"\"\n      }\n    },\n    {\n      \"column\": \"fuelType\",\n      \"properties\": {\n        \"dtype\": \"category\",\n        \"num_unique_values\": 5,\n        \"samples\": [\n          \"Regular Gasoline\",\n          \"Natural Gas\",\n          \"Diesel\"\n        ],\n        \"semantic_type\": \"\",\n        \"description\": \"\"\n      }\n    },\n    {\n      \"column\": \"cylinders\",\n      \"properties\": {\n        \"dtype\": \"number\",\n        \"std\": 1,\n        \"min\": 2,\n        \"max\": 12,\n        \"num_unique_values\": 7,\n        \"samples\": [\n          6,\n          4,\n          3\n        ],\n        \"semantic_type\": \"\",\n        \"description\": \"\"\n      }\n    },\n    {\n      \"column\": \"displ\",\n      \"properties\": {\n        \"dtype\": \"number\",\n        \"std\": 1.305900873154292,\n        \"min\": 0.6,\n        \"max\": 7.0,\n        \"num_unique_values\": 46,\n        \"samples\": [\n          1.0,\n          6.7,\n          1.3\n        ],\n        \"semantic_type\": \"\",\n        \"description\": \"\"\n      }\n    },\n    {\n      \"column\": \"pv2\",\n      \"properties\": {\n        \"dtype\": \"number\",\n        \"std\": 37,\n        \"min\": 0,\n        \"max\": 102,\n        \"num_unique_values\": 33,\n        \"samples\": [\n          100,\n          85,\n          87\n        ],\n        \"semantic_type\": \"\",\n        \"description\": \"\"\n      }\n    },\n    {\n      \"column\": \"pv4\",\n      \"properties\": {\n        \"dtype\": \"number\",\n        \"std\": 48,\n        \"min\": 0,\n        \"max\": 127,\n        \"num_unique_values\": 43,\n        \"samples\": [\n          108,\n          125,\n          84\n        ],\n        \"semantic_type\": \"\",\n        \"description\": \"\"\n      }\n    },\n    {\n      \"column\": \"city\",\n      \"properties\": {\n        \"dtype\": \"number\",\n        \"std\": 6.246272847435056,\n        \"min\": 10.5402,\n        \"max\": 57.8088,\n        \"num_unique_values\": 1619,\n        \"samples\": [\n          21.8931,\n          24.4094,\n          19.2707\n        ],\n        \"semantic_type\": \"\",\n        \"description\": \"\"\n      }\n    },\n    {\n      \"column\": \"UCity\",\n      \"properties\": {\n        \"dtype\": \"number\",\n        \"std\": 9.087194981187881,\n        \"min\": 12.9,\n        \"max\": 83.5598,\n        \"num_unique_values\": 1467,\n        \"samples\": [\n          20.1572,\n          18.5,\n          35.7216\n        ],\n        \"semantic_type\": \"\",\n        \"description\": \"\"\n      }\n    },\n    {\n      \"column\": \"highway\",\n      \"properties\": {\n        \"dtype\": \"number\",\n        \"std\": 5.747570661230514,\n        \"min\": 16.5594,\n        \"max\": 59.4169,\n        \"num_unique_values\": 1659,\n        \"samples\": [\n          37.6688,\n          38.3403,\n          39.9081\n        ],\n        \"semantic_type\": \"\",\n        \"description\": \"\"\n      }\n    },\n    {\n      \"column\": \"UHighway\",\n      \"properties\": {\n        \"dtype\": \"number\",\n        \"std\": 9.100422725352038,\n        \"min\": 21.8,\n        \"max\": 79.1,\n        \"num_unique_values\": 1472,\n        \"samples\": [\n          32.7164,\n          44.2918,\n          34.2507\n        ],\n        \"semantic_type\": \"\",\n        \"description\": \"\"\n      }\n    },\n    {\n      \"column\": \"comb\",\n      \"properties\": {\n        \"dtype\": \"number\",\n        \"std\": 6.003245556571921,\n        \"min\": 12.8217,\n        \"max\": 57.7824,\n        \"num_unique_values\": 2110,\n        \"samples\": [\n          21.6244,\n          24.7111,\n          27.6665\n        ],\n        \"semantic_type\": \"\",\n        \"description\": \"\"\n      }\n    },\n    {\n      \"column\": \"co2\",\n      \"properties\": {\n        \"dtype\": \"number\",\n        \"std\": 92,\n        \"min\": 29,\n        \"max\": 692,\n        \"num_unique_values\": 404,\n        \"samples\": [\n          476,\n          679,\n          122\n        ],\n        \"semantic_type\": \"\",\n        \"description\": \"\"\n      }\n    },\n    {\n      \"column\": \"feScore\",\n      \"properties\": {\n        \"dtype\": \"number\",\n        \"std\": 1,\n        \"min\": 1,\n        \"max\": 10,\n        \"num_unique_values\": 10,\n        \"samples\": [\n          10,\n          6,\n          2\n        ],\n        \"semantic_type\": \"\",\n        \"description\": \"\"\n      }\n    },\n    {\n      \"column\": \"ghgScore\",\n      \"properties\": {\n        \"dtype\": \"number\",\n        \"std\": 1,\n        \"min\": 1,\n        \"max\": 10,\n        \"num_unique_values\": 10,\n        \"samples\": [\n          10,\n          6,\n          2\n        ],\n        \"semantic_type\": \"\",\n        \"description\": \"\"\n      }\n    }\n  ]\n}"
            }
          },
          "metadata": {},
          "execution_count": 9
        }
      ],
      "source": [
        "fuel_econ_data = pd.read_csv('fuel_econ.csv')\n",
        "fuel_econ_data.head(10)"
      ]
    },
    {
      "cell_type": "markdown",
      "source": [
        "Play Around with Bin size as you create your Histogram\n",
        "\n",
        "[Bin size in Matplot Lib](https://www.geeksforgeeks.org/bin-size-in-matplotlib-histogram/)\n",
        "\n",
        "![image.png](data:image/png;base64,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)"
      ],
      "metadata": {
        "id": "khWMYm3BLA8r"
      }
    },
    {
      "cell_type": "markdown",
      "metadata": {
        "id": "uANN8113mTOE"
      },
      "source": [
        "# Carbon Dioxide Distribution\n",
        "A Histogram representing the distribution of Carbon Dioxide Emmissions.\n",
        "\n",
        "\n",
        "\n",
        "\n",
        "\n",
        "\n"
      ]
    },
    {
      "cell_type": "code",
      "execution_count": null,
      "metadata": {
        "id": "F4IHZ1C7mTOE",
        "colab": {
          "base_uri": "https://localhost:8080/",
          "height": 466
        },
        "outputId": "9c5cbfd7-9827-438a-cacc-21529669f519"
      },
      "outputs": [
        {
          "output_type": "execute_result",
          "data": {
            "text/plain": [
              "<Axes: xlabel='co2', ylabel='Count'>"
            ]
          },
          "metadata": {},
          "execution_count": 3
        },
        {
          "output_type": "display_data",
          "data": {
            "text/plain": [
              "<Figure size 640x480 with 1 Axes>"
            ],
            "image/png": "[encoded data removed]"
          },
          "metadata": {}
        }
      ],
      "source": [
        "bin_range = (0, 700)\n",
        "\n",
        "sns.histplot(data=fuel_econ_data, x='co2', binwidth=20, binrange=bin_range)"
      ]
    },
    {
      "cell_type": "markdown",
      "source": [
        "# City Fuel Economy (mpg)\n",
        "\n",
        "A Histogram showing the fuel economy distribution of different models when driving in the city."
      ],
      "metadata": {
        "id": "MnwYilZ6qXGF"
      }
    },
    {
      "cell_type": "code",
      "source": [
        "sns.histplot(data=fuel_econ_data, x='city', binwidth=1, binrange=(10, 60))"
      ],
      "metadata": {
        "id": "5UaY2iGhsKGR",
        "colab": {
          "base_uri": "https://localhost:8080/",
          "height": 466
        },
        "outputId": "1695e320-8f40-4978-ddc6-231941c77c1e"
      },
      "execution_count": null,
      "outputs": [
        {
          "output_type": "execute_result",
          "data": {
            "text/plain": [
              "<Axes: xlabel='city', ylabel='Count'>"
            ]
          },
          "metadata": {},
          "execution_count": 4
        },
        {
          "output_type": "display_data",
          "data": {
            "text/plain": [
              "<Figure size 640x480 with 1 Axes>"
            ],
            "image/png": "[encoded data removed]"
          },
          "metadata": {}
        }
      ]
    },
    {
      "cell_type": "markdown",
      "source": [
        "# Highway Fuel Economy (mpg)\n",
        "\n",
        "A histogram showng the fuel economy distribution when driving in highways."
      ],
      "metadata": {
        "id": "pD7OOr3pqpaU"
      }
    },
    {
      "cell_type": "code",
      "source": [
        "sns.histplot(data=fuel_econ_data, x='highway', binwidth=1, binrange=(10, 60))"
      ],
      "metadata": {
        "id": "ei7zk7KtxQ2w",
        "colab": {
          "base_uri": "https://localhost:8080/",
          "height": 466
        },
        "outputId": "4e39fc22-e9d7-4b23-8f29-04b3620cae01"
      },
      "execution_count": null,
      "outputs": [
        {
          "output_type": "execute_result",
          "data": {
            "text/plain": [
              "<Axes: xlabel='highway', ylabel='Count'>"
            ]
          },
          "metadata": {},
          "execution_count": 5
        },
        {
          "output_type": "display_data",
          "data": {
            "text/plain": [
              "<Figure size 640x480 with 1 Axes>"
            ],
            "image/png": "[encoded data removed]"
          },
          "metadata": {}
        }
      ]
    },
    {
      "cell_type": "markdown",
      "source": [
        "# Column Correlation Heatmap"
      ],
      "metadata": {
        "id": "mhC_PFTOo7rZ"
      }
    },
    {
      "cell_type": "code",
      "source": [
        "cols = ['id', 'year', 'cylinders', 'displ', 'pv2', 'pv4', 'city', 'UCity', 'highway', 'UHighway', 'comb', 'co2', 'feScore', 'ghgScore']\n",
        "\n",
        "fuel_econ_corr = fuel_econ_data[cols].corr()\n",
        "\n",
        "sns.heatmap(fuel_econ_corr, cmap='coolwarm')"
      ],
      "metadata": {
        "colab": {
          "base_uri": "https://localhost:8080/",
          "height": 492
        },
        "id": "tGa0Jx7LegtV",
        "outputId": "6085d543-c193-4990-a679-a9cab9b926ba"
      },
      "execution_count": null,
      "outputs": [
        {
          "output_type": "display_data",
          "data": {
            "text/plain": [
              "<Figure size 640x480 with 2 Axes>"
            ],
            "image/png": "[encoded data removed]"
          },
          "metadata": {}
        }
      ]
    },
    {
      "cell_type": "markdown",
      "source": [
        "# Interpretation of Heat Map\n",
        "The heat map shows the correlation between different dataset features.\n",
        "\n",
        "Features with a blue color have a strong negative correlation. This means\n",
        "that as the value of one variable increases, the other tends to\n",
        "decrease and vice versa. An example of features which such a\n",
        "relationship are the city and co2 variables. The city feature\n",
        "represents a car's miles per gallon when driving in the city. The co2\n",
        "represents the carbon dioxide emissions by a car. A car with a low mpg\n",
        "uses more fuel to travel a distance and therefore emits more co2.\n",
        "Such a car will have a high co2 number.\n",
        "\n",
        "Features with a slight blue represent a weak negative correlation.\n",
        "\n",
        "Features with a red colour represent a strong positive correlation.\n",
        "For these features, as one increases, the other also increases.\n",
        "An example of such a relationship is the one between city and highway\n",
        "features. Both these features represent the fuel economies of cars in\n",
        "miles per gallon. The city feature represents the fuel economy when\n",
        "driving in the city. The highway feature represents the fuel economy\n",
        "when driving in the highway. A car that's efficient in the city also tends\n",
        "to be efficient on the highway as well. Therefore there is a strong positive\n",
        "correlation between the highway and city features.\n",
        "\n",
        "Features with a slight red represent a weak positive correlation.\n",
        "\n",
        "Features with white show no correlation. This means one feature does\n",
        "not influence the other. For example the pv4 and displ features show\n",
        "no correlation with each other."
      ],
      "metadata": {
        "id": "OFYB6V1aogry"
      }
    },
    {
      "cell_type": "markdown",
      "source": [
        "# Columns to drop\n",
        "\n",
        "Given the target is ghgScore, we would need to drop columns that have no correlation with the ghgScore. From the heatmap, we can see that the pv4 has no correlation. Additionally, we can drop the id and year columns because their correlations are weak."
      ],
      "metadata": {
        "id": "vPdkhh1CndiB"
      }
    }
  ],
  "metadata": {
    "kernelspec": {
      "display_name": "Python 3",
      "language": "python",
      "name": "python3"
    },
    "language_info": {
      "codemirror_mode": {
        "name": "ipython",
        "version": 3
      },
      "file_extension": ".py",
      "mimetype": "text/x-python",
      "name": "python",
      "nbconvert_exporter": "python",
      "pygments_lexer": "ipython3",
      "version": "3.6.3"
    },
    "colab": {
      "provenance": [],
      "include_colab_link": true
    }
  },
  "nbformat": 4,
  "nbformat_minor": 0
}